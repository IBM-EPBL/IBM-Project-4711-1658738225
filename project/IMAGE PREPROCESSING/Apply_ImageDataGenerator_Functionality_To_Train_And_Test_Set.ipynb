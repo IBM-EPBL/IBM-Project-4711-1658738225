{
  "nbformat": 4,
  "nbformat_minor": 0,
  "metadata": {
    "colab": {
      "provenance": []
    },
    "kernelspec": {
      "name": "python3",
      "display_name": "Python 3"
    },
    "language_info": {
      "name": "python"
    }
  },
  "cells": [
    {
      "cell_type": "markdown",
      "source": [
        "Team Id: PNT2022TMID30344\n",
        "\n",
        "Project: Real-Time Communication system powered by AI for specially abled\n",
        "Image Preprocessing\n",
        "\n",
        "Apply ImageDataGenerator Functionality To Train And Test Set\n",
        "\n"
      ],
      "metadata": {
        "id": "GOC6zSFHG6cG"
      }
    },
    {
      "cell_type": "code",
      "source": [
        "from tensorflow.keras.preprocessing.image import ImageDataGenerator"
      ],
      "metadata": {
        "id": "noN2-RzLHLvF"
      },
      "execution_count": null,
      "outputs": []
    },
    {
      "cell_type": "code",
      "source": [
        "# Training Datagen\n",
        "train_datagen = ImageDataGenerator(rescale=1/255,zoom_range=0.2,horizontal_flip=True,vertical_flip=False)\n",
        "# Testing Datagen\n",
        "test_datagen = ImageDataGenerator(rescale=1/255)"
      ],
      "metadata": {
        "id": "3K3VO3pxHWwx"
      },
      "execution_count": null,
      "outputs": []
    },
    {
      "cell_type": "code",
      "source": [
        "import tensorflow as tf\n",
        "import os\n",
        "from tensorflow.keras.models import Sequential\n",
        "from tensorflow.keras.layers import Dense, Conv2D, Flatten, Dropout, MaxPooling2D\n",
        "from tensorflow.keras.preprocessing.image import ImageDataGenerator\n",
        "import numpy as np\n",
        "import matplotlib.pyplot as plt\n",
        "import IPython.display as display\n",
        "from PIL import Image\n",
        "import pathlib"
      ],
      "metadata": {
        "id": "JgTGm4EuHbDk"
      },
      "execution_count": null,
      "outputs": []
    },
    {
      "cell_type": "markdown",
      "source": [
        "Apply ImageDataGenerator Functionality To Train And Test set"
      ],
      "metadata": {
        "id": "gYEm-u7eHgrz"
      }
    },
    {
      "cell_type": "code",
      "source": [
        "'!unzip '/content/drive/MyDrive/Classroom/Dataset.zip'"
      ],
      "metadata": {
        "id": "CDcBGSjbHol5"
      },
      "execution_count": null,
      "outputs": []
    },
    {
      "cell_type": "code",
      "source": [
        "from tensorflow.keras.preprocessing.image import ImageDataGenerator\n",
        "print(\"This dataset has been created and uploaded by IBM-TeamID-IBM-Project-9233-1658988732\")\n"
      ],
      "metadata": {
        "id": "o-r8P5XcHvwO"
      },
      "execution_count": null,
      "outputs": []
    },
    {
      "cell_type": "markdown",
      "source": [
        "This dataset has been created and uploaded by IBM-TeamID-IBM-Project-4711-1658738225"
      ],
      "metadata": {
        "id": "EanBgtXiHz1K"
      }
    },
    {
      "cell_type": "code",
      "source": [
        "from google.colab import drive\n",
        "drive.mount('/content/drive')"
      ],
      "metadata": {
        "id": "ZO8q79sxIE69"
      },
      "execution_count": null,
      "outputs": []
    },
    {
      "cell_type": "markdown",
      "source": [
        "Mounted at /content/drive"
      ],
      "metadata": {
        "id": "AZdZeRLzIRNT"
      }
    },
    {
      "cell_type": "code",
      "source": [
        "train_datagen = ImageDataGenerator(rescale=1./255,zoom_range=0.2,horizontal_flip=True, vertical_flip=False)\n",
        "test_datagen= ImageDataGenerator(rescale=1./255)\n"
      ],
      "metadata": {
        "id": "pYYMnOzRIYfc"
      },
      "execution_count": null,
      "outputs": []
    },
    {
      "cell_type": "code",
      "source": [
        "x_train = train_datagen.flow_from_directory('/content/Dataset/training_set',target_size=(64,64), batch_size=300,\n",
        "                                          class_mode='categorical', color_mode = \"grayscale\")"
      ],
      "metadata": {
        "id": "-_c22P6HIcvw"
      },
      "execution_count": null,
      "outputs": []
    },
    {
      "cell_type": "markdown",
      "source": [
        "Found 15750 images belonging to 9 classes.\n"
      ],
      "metadata": {
        "id": "hpv7QNbXIhmi"
      }
    },
    {
      "cell_type": "code",
      "source": [
        "x_train.class_indices"
      ],
      "metadata": {
        "id": "vkcTBpduImYu"
      },
      "execution_count": null,
      "outputs": []
    },
    {
      "cell_type": "code",
      "source": [
        "{'A': 0, 'B': 1, 'C': 2, 'D': 3, 'E': 4, 'F': 5, 'G': 6, 'H': 7, 'I': 8}"
      ],
      "metadata": {
        "id": "DjLQhiAJI1Ok"
      },
      "execution_count": null,
      "outputs": []
    },
    {
      "cell_type": "code",
      "source": [
        "x_test = test_datagen.flow_from_directory('/content/Dataset/test_set',target_size=(64,64), batch_size=300,\n",
        "                                          class_mode='categorical', color_mode = \"grayscale\")"
      ],
      "metadata": {
        "id": "a4tKmV74JBuX"
      },
      "execution_count": null,
      "outputs": []
    },
    {
      "cell_type": "markdown",
      "source": [
        "Found 2250 images belonging to 9 classes."
      ],
      "metadata": {
        "id": "zbrGPJLeJGaw"
      }
    },
    {
      "cell_type": "code",
      "source": [
        "x_test.class_indices"
      ],
      "metadata": {
        "id": "1xMZpdkOJT4r"
      },
      "execution_count": null,
      "outputs": []
    },
    {
      "cell_type": "code",
      "source": [
        "{'A': 0, 'B': 1, 'C': 2, 'D': 3, 'E': 4, 'F': 5, 'G': 6, 'H': 7, 'I': 8}"
      ],
      "metadata": {
        "id": "jcZkylhWJZWy"
      },
      "execution_count": null,
      "outputs": []
    }
  ]
}